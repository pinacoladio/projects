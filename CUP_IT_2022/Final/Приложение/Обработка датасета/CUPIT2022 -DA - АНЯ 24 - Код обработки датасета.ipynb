{
 "cells": [
  {
   "cell_type": "code",
   "execution_count": 2,
   "id": "2f5c3a62",
   "metadata": {},
   "outputs": [],
   "source": [
    "import pandas as pd\n",
    "import numpy as np\n",
    "import scipy as sp\n",
    "import matplotlib.pyplot as plt\n",
    "import seaborn as sea\n",
    "import datetime\n",
    "%matplotlib inline "
   ]
  },
  {
   "cell_type": "markdown",
   "id": "8d4a1f41",
   "metadata": {},
   "source": [
    "# Загрузка всех таблиц из файла data"
   ]
  },
  {
   "cell_type": "code",
   "execution_count": 3,
   "id": "c6c542ac",
   "metadata": {},
   "outputs": [],
   "source": [
    "data_work_time = pd.read_excel('data.xlsx', sheet_name='Рабочее время')\n",
    "data_employee = pd.read_excel('data.xlsx', sheet_name='Сотрудник Подр. Месяц')\n",
    "data_service = pd.read_excel('data.xlsx', sheet_name='Сервисы использование')\n",
    "data_hierarchy = pd.read_excel('data.xlsx', sheet_name='Иерархия подразделений')"
   ]
  },
  {
   "cell_type": "markdown",
   "id": "17431820",
   "metadata": {},
   "source": [
    "# Переименнуем именна столбцов всех таблиц\n",
    "### Преобразуем данные для комфортной дальнейшей работы"
   ]
  },
  {
   "cell_type": "code",
   "execution_count": 4,
   "id": "189eea8b",
   "metadata": {},
   "outputs": [],
   "source": [
    "#переименнуем именна столбцов всех таблиц на англиский язык для дальнейшего удобства\n",
    "data_work_time = data_work_time.rename(columns = {'Дата' : 'date',\n",
    "                                'Сотрудник' : 'employee',\n",
    "                                'Рабочие часы' : 'working_hours',\n",
    "                                'Подразделение' : 'subdivision_work',\n",
    "                                'Подразделение_TXT' : 'subdivision_txt'})\n",
    "\n",
    "data_employee = data_employee.rename(columns = {'Сотрудник' : 'employee',\n",
    "                                'Подразделение' : 'subdivision_salary',\n",
    "                                'Подразделение_TXT' : 'subdivision_txt',\n",
    "                                'Месяц' : 'month',\n",
    "                                'Должность' : 'position',\n",
    "                                'Должность_TXT' : 'position_txt',\n",
    "                                'Пол' : 'gender',\n",
    "                                'ФИО' : 'full_name',\n",
    "                                'ЗП (руб.)' : 'salary'})\n",
    "\n",
    "data_service = data_service.rename(columns = {'Подразделение' : 'subdivision_work',\n",
    "                               'Подразделение_TXT' : 'subdivision_txt',\n",
    "                               'Должность' : 'position',\n",
    "                               'Должность_TXT' : 'position_txt',\n",
    "                               'Сервис' : 'service',\n",
    "                               'Сервис_TXT' : 'service_txt',\n",
    "                               '% использования в рабочее время' : 'persent_use_in_work_time'})\n",
    "\n",
    "data_hierarchy = data_hierarchy.rename(columns = {'Ид. узла' : 'id_node',\n",
    "                                 'Ид. подразделения' : 'id_subdivision',\n",
    "                                 'Наименование' : 'subdivision_txt',\n",
    "                                 'Родительский узел' : \"parent's_node\",\n",
    "                                 'Следущий узел' : 'next_node'})\n",
    "\n",
    "#добавим в первую таблицу месяца работы\n",
    "data_work_time['month'] = [data_work_time['date'].iloc[i].month for i in range(data_work_time.shape[0])]\n",
    "\n",
    "#преобразуем данные второй таблицы чтобы вместо полной даты остался только месяц\n",
    "data_employee['month'] = [data_employee['month'].iloc[i].month for i in range(data_employee.shape[0])]\n",
    "\n",
    "#удалим из таблиц данные о названиях должности, сервисов, подразделения, но до этого сохраним их в виде словаря\n",
    "# id_txt : txt\n",
    "\n",
    "sub = {}\n",
    "for i in range(len(list(data_work_time['subdivision_work'].unique())) ):\n",
    "    sub[list(data_work_time['subdivision_work'].unique()) [i]] = list(data_work_time['subdivision_txt'].unique())[i]\n",
    "\n",
    "data_position = {}\n",
    "for i in range(len(list(data_employee['position'].unique())) ):\n",
    "    data_position[list(data_employee['position'].unique())[i]] = list(data_employee['position_txt'].unique())[i]\n",
    "    \n",
    "data_services = {}\n",
    "for i in range(len(list(data_service['service'].unique()))):\n",
    "    data_services[list(data_service['service'].unique())[i]] = list(data_service['service_txt'].unique())[i]\n",
    "\n",
    "#так как в четвертой таблице данные о названиях повторяются, то возьмем два столбца о id и соответствуюющем названии\n",
    "data_subdivision = data_hierarchy[['id_subdivision', 'subdivision_txt']]\n",
    "\n",
    "#теперь когда данные сохраненны в отдельные переменные можем удалить лишнии данные из таблиц\n",
    "data_work_time = data_work_time.drop(['subdivision_txt'], axis = 1)\n",
    "\n",
    "data_employee = data_employee.drop(['subdivision_txt', 'position_txt', 'full_name'], axis = 1)\n",
    "\n",
    "data_service = data_service.drop(['subdivision_txt', 'position_txt', 'service_txt'], axis = 1)\n",
    "\n",
    "data_hierarchy = data_hierarchy.drop(['subdivision_txt'], axis = 1)\n",
    "\n",
    "#теперь данные преобразованны и можно переходить к их обработке"
   ]
  },
  {
   "cell_type": "markdown",
   "id": "1ff4b42d",
   "metadata": {},
   "source": [
    "# Рассмотрим статистические данные, которые можем получить на основе предоставленных данных"
   ]
  },
  {
   "cell_type": "markdown",
   "id": "cdb26cc6",
   "metadata": {},
   "source": [
    "### Найдем среднюю зарплату для каждого подразделения в зависимости от должности и пола"
   ]
  },
  {
   "cell_type": "code",
   "execution_count": 5,
   "id": "cf354e46",
   "metadata": {},
   "outputs": [],
   "source": [
    "date_mean_salary = data_employee.groupby(['subdivision_salary', 'position', 'gender']).agg({'salary' : 'mean'})"
   ]
  },
  {
   "cell_type": "markdown",
   "id": "824f6792",
   "metadata": {},
   "source": [
    "### Соединим первую и вторую таблицу по id_работника и месяцу работы"
   ]
  },
  {
   "cell_type": "code",
   "execution_count": 6,
   "id": "46d1413b",
   "metadata": {},
   "outputs": [],
   "source": [
    "data_work_time = data_work_time.merge(data_employee, on =('employee', 'month'))"
   ]
  },
  {
   "cell_type": "markdown",
   "id": "f01775d6",
   "metadata": {},
   "source": [
    "### Составим таблицу в которой показанно рабочие часы каждого работника в соответствующем месяце"
   ]
  },
  {
   "cell_type": "code",
   "execution_count": 7,
   "id": "972e70b0",
   "metadata": {},
   "outputs": [],
   "source": [
    "time_work_of_employee = data_work_time.groupby(['employee', 'month']).agg({'working_hours' : 'sum'})"
   ]
  },
  {
   "cell_type": "markdown",
   "id": "3e6d1515",
   "metadata": {},
   "source": [
    "### Присоединим третью таблицу и сгруппируем по подразделению и по должности\n",
    "- ###### Получим таблицу с данными о кол-ве рабочих часов в месяц и суммарную зарплату и столбик со значениями зарплаты полученной в час на данном сервисе\n",
    "\n",
    "Создадим таблицу с данными, где: \n",
    "- working_hours - это суммарное время работы всех сотрудников в соответствующем месяце, на соответ. должности, в соотв. подразделении\n",
    "- salary - суммарная зарплата всех сотрудников в соответствующем месяце, на соответ. должности, в соотв. подразделении\n",
    "- money_in_hour - деньги получаемые в час на соответствующем сервисе для всех сотрудников на однной должности, в данном подразделении, для соответ. месяца\n"
   ]
  },
  {
   "cell_type": "code",
   "execution_count": 8,
   "id": "a00e6ba2",
   "metadata": {},
   "outputs": [
    {
     "name": "stderr",
     "output_type": "stream",
     "text": [
      "<ipython-input-8-22d6e022b012>:18: SettingWithCopyWarning: \n",
      "A value is trying to be set on a copy of a slice from a DataFrame\n",
      "\n",
      "See the caveats in the documentation: https://pandas.pydata.org/pandas-docs/stable/user_guide/indexing.html#returning-a-view-versus-a-copy\n",
      "  data_money_in_hour.money_in_hour[i] = round((data_money_in_hour.money_in_hour[i] / data_money_in_hour.working_hours[i]), 2)\n",
      "<ipython-input-8-22d6e022b012>:16: SettingWithCopyWarning: \n",
      "A value is trying to be set on a copy of a slice from a DataFrame\n",
      "\n",
      "See the caveats in the documentation: https://pandas.pydata.org/pandas-docs/stable/user_guide/indexing.html#returning-a-view-versus-a-copy\n",
      "  data_money_in_hour.money_in_hour[i] = 0\n"
     ]
    }
   ],
   "source": [
    "\n",
    "#Для этого сначала объединим таблицы и добавим доп. столбик со значениями процента от зарплаты полученной на данном сервисе\n",
    "data = data_work_time.merge(data_service, on = ['subdivision_work', 'position'])\n",
    "data['money_in_hour'] = (data.persent_use_in_work_time / 100) * data.salary\n",
    "\n",
    "#После этогосгруппируем таблицу и изменим столбик со значениями процента зарплаты на данном сервисе и разделим на кол-во часов\n",
    "#Получим столбик со значениями равными зарплате в час полученными на данном сервисе\n",
    "\n",
    "data_money_in_hour = data.drop(['date', 'employee'], axis = 1) \\\n",
    "    .groupby(['subdivision_work', 'position', 'month', 'service', 'persent_use_in_work_time']) \\\n",
    "    .agg({'working_hours' : 'sum', 'salary' : 'sum', 'money_in_hour' : 'sum'})\n",
    "\n",
    "#Так как кол-во часов работы может равняться 0, то для заполнения таблицы рассмотрим оба случая\n",
    "data_money_in_hour = data_money_in_hour.reset_index()\n",
    "for i in range (data_money_in_hour.shape[0]):\n",
    "    if data_money_in_hour.working_hours[i] == 0:\n",
    "        data_money_in_hour.money_in_hour[i] = 0\n",
    "    if data_money_in_hour.working_hours[i] != 0:\n",
    "        data_money_in_hour.money_in_hour[i] = round((data_money_in_hour.money_in_hour[i] / data_money_in_hour.working_hours[i]), 2)"
   ]
  },
  {
   "cell_type": "markdown",
   "id": "1d5bfc9e",
   "metadata": {},
   "source": [
    "#  На основе полученной таблице составим матрицы для определения значимости сервисов"
   ]
  },
  {
   "cell_type": "markdown",
   "id": "c6ad148c",
   "metadata": {},
   "source": [
    "### Создадим матрицу зависимости сервиса от времени работа в различных месяцах"
   ]
  },
  {
   "cell_type": "code",
   "execution_count": 11,
   "id": "9454236c",
   "metadata": {},
   "outputs": [],
   "source": [
    "#Создадим матрицу зависимости сервиса от времени работа в различных месяцах\n",
    "\n",
    "#Создадим доп. таблицу для рассмотрения этих данных, чтобы исходная таблица не подверглась изменениям\n",
    "data_hours_in_server = data_money_in_hour.copy()\n",
    "data_hours_in_server['hours_service'] = round((data_hours_in_server.working_hours * data_hours_in_server.persent_use_in_work_time / 100), 2)\n",
    "data_hours_in_server = data_hours_in_server.groupby(['month', 'service']) \\\n",
    "    .agg({'working_hours' : 'sum'})\n",
    "data_hours_in_server = data_hours_in_server.reset_index()\n",
    "\n",
    "#После полученной таблицы сформируем матрицу\n",
    "matrix = np.array([[0 for i in range(8)] for i in range(8)])\n",
    "\n",
    "for i in range(7):\n",
    "    matrix[i+1][0] = list(data_services.keys())[i]\n",
    "for i in range(7):\n",
    "    matrix[0][i+1] = i + 1\n",
    "\n",
    "for i in range(1,8):\n",
    "    for j in range(1,8):\n",
    "        matrix[i][j] = data_hours_in_server.working_hours[i * j - 1]\n",
    "\n",
    "#Полученную матрицу преобразуем в Дата Фрейм который сохраним в отдельный ексель файл\n",
    "df = pd.DataFrame(matrix, columns = [0, 'January', 'February', 'March', 'April', 'May', 'June', 'July'], index = [0] + list(data_services.values()))\n",
    "df = df.drop(0, axis = 0)\n",
    "df = df.drop(0, axis = 1)\n",
    "\n",
    "df.to_excel('service_month.xlsx')"
   ]
  },
  {
   "cell_type": "markdown",
   "id": "9eb09387",
   "metadata": {},
   "source": [
    "### Создадим матрицу зависимости часов работы каждого сервиса на соответствующем подразделении\n",
    "Алгоритм создание таблицы состоит в последовательном заполнении учеек из группированой таблицы data_service_sub. Итоговую таблицу также можно найти в xlsx формете в Приложени - Обработанные данные"
   ]
  },
  {
   "cell_type": "code",
   "execution_count": 12,
   "id": "cfb3efb6",
   "metadata": {},
   "outputs": [],
   "source": [
    "#Создадим матрицу зависимости часов работы каждого сервиса на соответствующем подразделении\n",
    "\n",
    "#Создадим доп. таблицу для рассмотрения этих данных, чтобы исходная таблица не подверглась изменениям\n",
    "data_money_in_hour = data_money_in_hour.copy()\n",
    "data_money_in_hour['hours_service'] = round((data_money_in_hour.working_hours * data_money_in_hour.persent_use_in_work_time / 100), 2)\n",
    "data_service_sub = data_money_in_hour.groupby(['subdivision_work', 'service']) \\\n",
    "                    .agg({'hours_service' : 'sum', 'money_in_hour':'sum'})\n",
    "data_service_sub = data_service_sub.reset_index()\n",
    "data_service_sub['money_service']=data_service_sub['hours_service']*data_service_sub['money_in_hour']\n",
    "\n",
    "#На основе полученных данных составим матрицу\n",
    "matrix = [[0 for i in range(11)] for i in range(8)]\n",
    "for i in range(7):\n",
    "    matrix[i+1][0]=list(data_services.values())[i]\n",
    "for i in range(10):\n",
    "    matrix[0][i+1]=list(sub.values())[i]\n",
    "for i in range(1,8):\n",
    "    for j in range(1,11):\n",
    "        matrix[i][j]=data_service_sub.iloc[i*j-1]['hours_service']\n",
    "        \n",
    "#Преобразуем матрицу в Дата Фрейм который сохраним в отдельный ексель файл\n",
    "df = pd.DataFrame(matrix, columns = [0] + list(sub.values()), index = [0] + list(data_services.values()))\n",
    "df = df.drop(0, axis = 0)\n",
    "df = df.drop(0, axis = 1)\n",
    "\n",
    "df.to_csv('cross.csv')"
   ]
  },
  {
   "cell_type": "markdown",
   "id": "790046e1",
   "metadata": {},
   "source": [
    "### На основе выше полученных данных составим матрицу зависимости кол-ва средств принесенных каждым сервисом для соответствующих подразделений\n",
    "\n",
    "Алгоритм создание таблицы аналогичный. Итоговую таблицу также можно найти в xlsx формете в Приложени - Обработанные данные"
   ]
  },
  {
   "cell_type": "code",
   "execution_count": 13,
   "id": "714afa9e",
   "metadata": {},
   "outputs": [],
   "source": [
    "matrix_money = [[0 for i in range(11)] for i in range(8)]\n",
    "for i in range(7):\n",
    "    matrix_money[i+1][0]=list(data_services.values())[i]\n",
    "for i in range(10):\n",
    "    matrix_money[0][i+1]=list(sub.values())[i]\n",
    "for i in range(1,8):\n",
    "    for j in range(1,11):\n",
    "        matrix_money[i][j]=data_service_sub.iloc[i*j-1]['money_service']\n",
    "\n",
    "#Преобразуем матрицу в Дата Фрейм который сохраним в отдельный ексель файл\n",
    "data_matrix_money = pd.DataFrame(matrix_money, columns = [0] + list(sub.values()), index = [0] + list(data_services.values()))\n",
    "data_matrix_money = data_matrix_money.drop(0, axis = 0)\n",
    "data_matrix_money = data_matrix_money.drop(0, axis = 1)\n",
    "\n",
    "data_matrix_money.to_csv('cross_money.csv')"
   ]
  },
  {
   "cell_type": "markdown",
   "id": "55ebbe1c",
   "metadata": {},
   "source": [
    "# Сгруппируем исходные данные, для создания единой плоской таблицы\n",
    "### Для этого перейдем к исходным данным"
   ]
  },
  {
   "cell_type": "code",
   "execution_count": 14,
   "id": "dacaedaa",
   "metadata": {},
   "outputs": [],
   "source": [
    "data_work_time = pd.read_excel('data.xlsx', sheet_name='Рабочее время')\n",
    "data_employee = pd.read_excel('data.xlsx', sheet_name='Сотрудник Подр. Месяц')\n",
    "data_service = pd.read_excel('data.xlsx', sheet_name='Сервисы использование')\n",
    "data_hierarchy = pd.read_excel('data.xlsx', sheet_name='Иерархия подразделений')\n",
    "\n",
    "data_work_time = data_work_time.rename(columns = {'Дата' : 'date',\n",
    "                                'Сотрудник' : 'employee',\n",
    "                                'Рабочие часы' : 'working_hours',\n",
    "                                'Подразделение' : 'subdivision_work',\n",
    "                                'Подразделение_TXT' : 'subdivision_txt'})\n",
    "\n",
    "data_employee = data_employee.rename(columns = {'Сотрудник' : 'employee',\n",
    "                                'Подразделение' : 'subdivision_salary',\n",
    "                                'Подразделение_TXT' : 'subdivision_salary_txt',\n",
    "                                'Месяц' : 'month',\n",
    "                                'Должность' : 'position',\n",
    "                                'Должность_TXT' : 'position_txt',\n",
    "                                'Пол' : 'gender',\n",
    "                                'ФИО' : 'full_name',\n",
    "                                'ЗП (руб.)' : 'salary'})\n",
    "\n",
    "data_service = data_service.rename(columns = {'Подразделение' : 'subdivision_work',\n",
    "                               'Подразделение_TXT' : 'subdivision_txt',\n",
    "                               'Должность' : 'position',\n",
    "                               'Должность_TXT' : 'position_txt',\n",
    "                               'Сервис' : 'service',\n",
    "                               'Сервис_TXT' : 'service_txt',\n",
    "                               '% использования в рабочее время' : 'persent_use_in_work_time'})\n",
    "\n",
    "data_hierarchy = data_hierarchy.rename(columns = {'Ид. узла' : 'id_node',\n",
    "                                 'Ид. подразделения' : 'subdivision_work',\n",
    "                                 'Наименование' : 'subdivision_txt',\n",
    "                                 'Родительский узел' : \"parent's_node\",\n",
    "                                 'Следущий узел' : 'next_node'})\n",
    "data_work_time['month'] = [data_work_time['date'].iloc[i].month for i in range(data_work_time.shape[0])]\n",
    "\n",
    "\n",
    "data_employee['month'] = [data_employee['month'].iloc[i].month for i in range(data_employee.shape[0])]"
   ]
  },
  {
   "cell_type": "markdown",
   "id": "f3904876",
   "metadata": {},
   "source": [
    "## Последовательно объединим все таблицы\n",
    "\n",
    "Также отсортируем их по подразделениям, таким образом можно делать быстрый поиск нужных записей используя алгоритмы с более низкой ассимптотикой. Итоговая таблица есть в xlsx формате в Приложении"
   ]
  },
  {
   "cell_type": "code",
   "execution_count": 15,
   "id": "fb33ca2e",
   "metadata": {},
   "outputs": [],
   "source": [
    "full_data = data_work_time.merge(data_employee, on = (['employee', 'month']))\n",
    "full_data = full_data.merge(data_service, on = (['subdivision_work', 'subdivision_txt', 'position', 'position_txt']))\n",
    "full_data = full_data.merge(data_hierarchy, on = (['subdivision_work', 'subdivision_txt'])) \\\n",
    "    .sort_values('subdivision_work')"
   ]
  },
  {
   "cell_type": "code",
   "execution_count": 18,
   "id": "179f96b6",
   "metadata": {},
   "outputs": [],
   "source": [
    "full_data = full_data.drop(columns=['subdivision_salary_txt', 'subdivision_salary'])"
   ]
  },
  {
   "cell_type": "code",
   "execution_count": 19,
   "id": "750c6bcb",
   "metadata": {},
   "outputs": [],
   "source": [
    "full_data.to_excel('Плоская таблица.xlsx')"
   ]
  },
  {
   "cell_type": "code",
   "execution_count": null,
   "id": "0df0f2fd",
   "metadata": {},
   "outputs": [],
   "source": []
  }
 ],
 "metadata": {
  "kernelspec": {
   "display_name": "Python 3",
   "language": "python",
   "name": "python3"
  },
  "language_info": {
   "codemirror_mode": {
    "name": "ipython",
    "version": 3
   },
   "file_extension": ".py",
   "mimetype": "text/x-python",
   "name": "python",
   "nbconvert_exporter": "python",
   "pygments_lexer": "ipython3",
   "version": "3.8.8"
  }
 },
 "nbformat": 4,
 "nbformat_minor": 5
}
