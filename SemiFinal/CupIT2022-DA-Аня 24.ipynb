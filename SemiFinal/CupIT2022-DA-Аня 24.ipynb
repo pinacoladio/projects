{
 "cells": [
  {
   "cell_type": "markdown",
   "id": "32d6972a",
   "metadata": {},
   "source": [
    "# Решение кейса CUP IT от команды \"Аня 24\""
   ]
  },
  {
   "cell_type": "markdown",
   "id": "a05ace22",
   "metadata": {},
   "source": [
    "## Загрузка требуемых библиотек и данных( с первичными преобразованиями)"
   ]
  },
  {
   "cell_type": "code",
   "execution_count": 2,
   "id": "950c4404",
   "metadata": {},
   "outputs": [],
   "source": [
    "import pandas as pd\n",
    "import numpy as np\n",
    "import scipy as sp\n",
    "import matplotlib.pyplot as plt\n",
    "import seaborn as sea\n",
    "from datetime import datetime\n",
    "%matplotlib inline "
   ]
  },
  {
   "cell_type": "code",
   "execution_count": 4,
   "id": "89e718dc",
   "metadata": {},
   "outputs": [],
   "source": [
    "#считываем данные, объединяем две таблицы по Id покупателя, удаляем ненужную колонку \"enr_date,также переводим дату в нужный тип \n",
    "data_customers=pd.read_csv('F:\\Downloads\\Cup_IT_Датасет_Аналитика_данных_cross-sell_model\\data\\png_magnit_customers.csv')\n",
    "data_purchases=pd.read_csv('F:\\Downloads\\Cup_IT_Датасет_Аналитика_данных_cross-sell_model\\data\\png_magnit_purchases.csv')\n",
    "data = data_purchases.merge(data_customers).drop(['enr_date'],axis=1).rename(columns={'purchase date':'purchase_date'})\n",
    "data['purchase_date']=pd.to_datetime(data['purchase_date'])"
   ]
  },
  {
   "cell_type": "code",
   "execution_count": 5,
   "id": "2385d29f",
   "metadata": {
    "scrolled": true
   },
   "outputs": [],
   "source": [
    "# добавляем столбец с номером месяца, чтобы затем строить временные ряды\n",
    "data['purchase_mounth'] = [data['purchase_date'].iloc[i].month for i in range(data.shape[0])] "
   ]
  },
  {
   "cell_type": "code",
   "execution_count": 7,
   "id": "1592ca2f",
   "metadata": {
    "scrolled": true
   },
   "outputs": [],
   "source": [
    "#Удаляем все строки, где продукт - еда, так как они не учавствуют в нашем анализе, по условию кейса\n",
    "food=['Вафли','Йогурты питьевые','Круаcсаны','Печенье (фас)','Кукурузные палочки','Пшено','Воды минеральные','Шоколадные конфеты в коробках',\\\n",
    "     'Пряничные изделия','Снэки из рыбы и морепродуктов','Газированные напитки российских брендов','Орехи (фас)',\\\n",
    "     'Попкорн','Семечки подсолнечника','Сухари-гренки','Чипсы','Сокосодержащие напитки','Мороженое порционное',\\\n",
    "     'Смеси сухие детские','Мясосодержащие консервы детские','Каши детские','Печенье, снэки детские','Йогурты детские',\\\n",
    "     'Энергетические напитки','Гематоген','Газированные питьевые воды','Готовое спортивное питание','Холодные чаи','Карты лояльности Магнит',\\\n",
    "     'Напитки детские','Негазированные питьевые воды','Газированные напитки импортных брендов','Пасты кондитерские',\\\n",
    "     'Шоколад плиточный','Сладкий снэк', 'Вкусовые питьевые воды',]\n",
    "data = data[~data['product'].isin(food)]\n"
   ]
  },
  {
   "cell_type": "markdown",
   "id": "d2bf207b",
   "metadata": {},
   "source": [
    "## Построение сводных таблиц для построения графиков анализа\n",
    "Графики затем строятся в Excel, так как там это делать проще и можно будет удобно корректировать их в презентации"
   ]
  },
  {
   "cell_type": "code",
   "execution_count": 306,
   "id": "e70a553e",
   "metadata": {},
   "outputs": [],
   "source": [
    "#строим диаграмму с группировкой по полу и возрасту с показателем среднему позиций в чеке. \n",
    "diagramma_1 = data.groupby(['gender','customer_age_group','customer','purchase_date'], as_index = False).aggregate({'product':'count'})\n",
    "diagramma_1 = diagramma_1.groupby(['gender','customer_age_group']).aggregate({'product':'mean'})\n",
    "diagramma_1.to_csv('diagramma_1.csv')"
   ]
  },
  {
   "cell_type": "code",
   "execution_count": 308,
   "id": "c5e06ae3",
   "metadata": {},
   "outputs": [],
   "source": [
    "#строим диаграмму с группировкой по полу с показателем количества покупок товаров P&G. \n",
    "diagramma_2 = data[data['p&g_product']>0].groupby('gender').aggregate({'customer':'count'})\n",
    "diagramma_2.to_csv('diagramma_2.csv')"
   ]
  },
  {
   "cell_type": "code",
   "execution_count": 10,
   "id": "81d39a96",
   "metadata": {
    "scrolled": true
   },
   "outputs": [],
   "source": [
    "#строим диаграмму по временни с выделение подгруппы товаров P&G с показателем количества покупок товаров.\n",
    "diagramma_3_all = data.groupby('purchase_mounth', as_index = False).aggregate({'cost_product':'count'})\n",
    "diagramma_3_PG = data[data['p&g_product']>0].groupby('purchase_mounth', as_index = False).aggregate({'customer':'count'})\n",
    "diagramma_3_all = diagramma_3_all.merge(diagramma_3_PG, on = 'purchase_mounth')\n",
    "diagramma_3_all.to_csv('diagramma_3.csv')"
   ]
  },
  {
   "cell_type": "code",
   "execution_count": 44,
   "id": "970e51f9",
   "metadata": {},
   "outputs": [],
   "source": [
    "#строим точечную диаграмму для всех продуктов, где по оси х - среднее кол-во позиций в чеке, где он учавствует\n",
    "#по оси у - сколько раз товар встречался во всех чеках\n",
    "diagramma_4 = data.groupby(['customer','purchase_date'],as_index= False).aggregate({'cost_product':'count'}).rename(columns={'cost_product':'dop_count'})\n",
    "diagramma_4 = data.merge(diagramma_4, on = ['customer','purchase_date'])\n",
    "\n",
    "diagramma_4_without_PG_x = diagramma_4[diagramma_4['p&g_product']==0].groupby(['product'],as_index= False).aggregate({'dop_count':'mean'})\n",
    "diagramma_4_PG_x = diagramma_4[diagramma_4['p&g_product']>0].groupby(['product'],as_index= False).aggregate({'dop_count':'mean'})\n",
    "\n",
    "diagramma_4_without_PG_y = data[data['p&g_product']==0].groupby('product',as_index= False).aggregate({'cost_product':'count'})\n",
    "diagramma_4_PG_y = data[data['p&g_product']>0].groupby('product',as_index= False).aggregate({'cost_product':'count'})\n",
    "\n",
    "\n",
    "diagramma_4_without_PG = diagramma_4_without_PG_x.merge(diagramma_4_without_PG_y, on = 'product')\n",
    "diagramma_4_PG = diagramma_4_PG_x.merge(diagramma_4_PG_y, on = 'product')\n",
    "\n",
    "diagramma_4_PG.to_csv('diagramma_4_PG.csv')\n",
    "diagramma_4_without_PG.to_csv('diagramma_4_without_PG.csv')\n",
    "\n",
    "\n",
    "diagramma_4_PG.to_csv('diagramma_4_PG.csv')\n",
    "diagramma_4_without_PG.to_csv('diagramma_4_without_PG.csv')"
   ]
  },
  {
   "cell_type": "code",
   "execution_count": 50,
   "id": "5cf6b66d",
   "metadata": {},
   "outputs": [],
   "source": [
    "#Диаграмма по каналам попадания покупателя в систему\n",
    "diagramma_5 = data[data['p&g_product']>0].groupby('enr_channel').aggregate({'customer':'count'})\n",
    "diagramma_5.to_csv('diagramma_5.csv')"
   ]
  },
  {
   "cell_type": "markdown",
   "id": "dc404b8f",
   "metadata": {},
   "source": [
    "## Создаем вспомагительные таблицы для дальнейшего анализа"
   ]
  },
  {
   "cell_type": "code",
   "execution_count": 17,
   "id": "d326ab38",
   "metadata": {
    "scrolled": true
   },
   "outputs": [],
   "source": [
    "#Таблица с всеми товарами, также индексируем их по возрастанию кол-ва его покупки\n",
    "data_product = data.groupby('product').aggregate({'other_product':'count'}).sort_values('other_product')\n",
    "data_product['index']=[i for i in range(data_product.shape[0])]"
   ]
  },
  {
   "cell_type": "code",
   "execution_count": 18,
   "id": "0959fac0",
   "metadata": {
    "scrolled": true
   },
   "outputs": [],
   "source": [
    "#Таблица с всеми чеками - несколько строк из data попадают в чек, если они были куплены одним пользователем в один день\n",
    "cheques = data.groupby(['customer','purchase_date'])\\\n",
    "    .aggregate({'cost_product':'sum','cost_p&g':'sum' })\\\n",
    "    .rename(columns={'cost_product':'total_product', 'cost_p&g':'total_p&g'})\n",
    "cheques['total_cost']=cheques['total_product']+cheques['total_p&g']\n",
    "cheques = cheques.merge(data[['customer','purchase_date','gender','customer_age_group']], on=['customer','purchase_date'])"
   ]
  },
  {
   "cell_type": "code",
   "execution_count": 19,
   "id": "939292ac",
   "metadata": {},
   "outputs": [],
   "source": [
    "#Группировка чеков по разным группам - пол и возраст с показателем - средняя цена товаров (по z шкале)\n",
    "cheques_by = cheques.groupby(['gender','customer_age_group']).aggregate({'total_cost':'mean'}).sort_values(['gender','total_cost'], ascending = False)"
   ]
  },
  {
   "cell_type": "code",
   "execution_count": 20,
   "id": "10df2462",
   "metadata": {},
   "outputs": [],
   "source": [
    "# Добавление индексов товаров в основную таблицу, создание таблицы чеков, но параметром as_index=False\n",
    "data = data.merge(data_product, on='product')\n",
    "cheques_position = data.groupby(['customer','purchase_date', 'product','index'],as_index=False).aggregate({'gender':'count'})b"
   ]
  },
  {
   "cell_type": "code",
   "execution_count": 27,
   "id": "c62e5d4f",
   "metadata": {},
   "outputs": [],
   "source": [
    "#Таблица товаров P&G, к которым добавлена основная идексация товаров- см. выше \n",
    "PG_product = data[data['p&g_product']>0].groupby('product').aggregate({'customer':'count'})\n",
    "PG_product = PG_product.merge(data_product, on = 'product')\n",
    "PG_product = PG_product.drop(columns=['customer','other_product'])\n",
    "PG_product = PG_product.reset_index(0)\n",
    "mas_name_PG = [PG_product['product'][i] for i in range(PG_product.shape[0])]"
   ]
  },
  {
   "cell_type": "markdown",
   "id": "b826bed0",
   "metadata": {},
   "source": [
    "## Создание матрицы встречаемости двух товаров в одном чеке"
   ]
  },
  {
   "cell_type": "code",
   "execution_count": 51,
   "id": "0231d574",
   "metadata": {},
   "outputs": [
    {
     "ename": "KeyboardInterrupt",
     "evalue": "",
     "output_type": "error",
     "traceback": [
      "\u001b[1;31m---------------------------------------------------------------------------\u001b[0m",
      "\u001b[1;31mKeyboardInterrupt\u001b[0m                         Traceback (most recent call last)",
      "\u001b[1;32m<ipython-input-51-bd9b6906111c>\u001b[0m in \u001b[0;36m<module>\u001b[1;34m\u001b[0m\n\u001b[0;32m     10\u001b[0m         \u001b[0mmas\u001b[0m\u001b[1;33m=\u001b[0m\u001b[1;33m[\u001b[0m\u001b[1;33m]\u001b[0m\u001b[1;33m\u001b[0m\u001b[1;33m\u001b[0m\u001b[0m\n\u001b[0;32m     11\u001b[0m         \u001b[0mpurchase\u001b[0m \u001b[1;33m=\u001b[0m \u001b[0mcheques_position\u001b[0m\u001b[1;33m.\u001b[0m\u001b[0miloc\u001b[0m\u001b[1;33m[\u001b[0m\u001b[0mi\u001b[0m\u001b[1;33m]\u001b[0m\u001b[1;33m[\u001b[0m\u001b[1;34m'purchase_date'\u001b[0m\u001b[1;33m]\u001b[0m\u001b[1;33m\u001b[0m\u001b[1;33m\u001b[0m\u001b[0m\n\u001b[1;32m---> 12\u001b[1;33m         \u001b[1;32mwhile\u001b[0m \u001b[0mcheques_position\u001b[0m\u001b[1;33m.\u001b[0m\u001b[0miloc\u001b[0m\u001b[1;33m[\u001b[0m\u001b[0mi\u001b[0m\u001b[1;33m]\u001b[0m\u001b[1;33m[\u001b[0m\u001b[1;34m'purchase_date'\u001b[0m\u001b[1;33m]\u001b[0m \u001b[1;33m==\u001b[0m \u001b[0mpurchase\u001b[0m\u001b[1;33m:\u001b[0m\u001b[1;33m\u001b[0m\u001b[1;33m\u001b[0m\u001b[0m\n\u001b[0m\u001b[0;32m     13\u001b[0m             \u001b[0mmas\u001b[0m\u001b[1;33m.\u001b[0m\u001b[0mappend\u001b[0m\u001b[1;33m(\u001b[0m\u001b[0mcheques_position\u001b[0m\u001b[1;33m.\u001b[0m\u001b[0miloc\u001b[0m\u001b[1;33m[\u001b[0m\u001b[0mi\u001b[0m\u001b[1;33m]\u001b[0m\u001b[1;33m[\u001b[0m\u001b[1;34m'index'\u001b[0m\u001b[1;33m]\u001b[0m\u001b[1;33m)\u001b[0m\u001b[1;33m\u001b[0m\u001b[1;33m\u001b[0m\u001b[0m\n\u001b[0;32m     14\u001b[0m             \u001b[0mi\u001b[0m\u001b[1;33m+=\u001b[0m\u001b[1;36m1\u001b[0m\u001b[1;33m\u001b[0m\u001b[1;33m\u001b[0m\u001b[0m\n",
      "\u001b[1;32m~\\anaconda3\\lib\\site-packages\\pandas\\core\\indexing.py\u001b[0m in \u001b[0;36m__getitem__\u001b[1;34m(self, key)\u001b[0m\n\u001b[0;32m    893\u001b[0m \u001b[1;33m\u001b[0m\u001b[0m\n\u001b[0;32m    894\u001b[0m             \u001b[0mmaybe_callable\u001b[0m \u001b[1;33m=\u001b[0m \u001b[0mcom\u001b[0m\u001b[1;33m.\u001b[0m\u001b[0mapply_if_callable\u001b[0m\u001b[1;33m(\u001b[0m\u001b[0mkey\u001b[0m\u001b[1;33m,\u001b[0m \u001b[0mself\u001b[0m\u001b[1;33m.\u001b[0m\u001b[0mobj\u001b[0m\u001b[1;33m)\u001b[0m\u001b[1;33m\u001b[0m\u001b[1;33m\u001b[0m\u001b[0m\n\u001b[1;32m--> 895\u001b[1;33m             \u001b[1;32mreturn\u001b[0m \u001b[0mself\u001b[0m\u001b[1;33m.\u001b[0m\u001b[0m_getitem_axis\u001b[0m\u001b[1;33m(\u001b[0m\u001b[0mmaybe_callable\u001b[0m\u001b[1;33m,\u001b[0m \u001b[0maxis\u001b[0m\u001b[1;33m=\u001b[0m\u001b[0maxis\u001b[0m\u001b[1;33m)\u001b[0m\u001b[1;33m\u001b[0m\u001b[1;33m\u001b[0m\u001b[0m\n\u001b[0m\u001b[0;32m    896\u001b[0m \u001b[1;33m\u001b[0m\u001b[0m\n\u001b[0;32m    897\u001b[0m     \u001b[1;32mdef\u001b[0m \u001b[0m_is_scalar_access\u001b[0m\u001b[1;33m(\u001b[0m\u001b[0mself\u001b[0m\u001b[1;33m,\u001b[0m \u001b[0mkey\u001b[0m\u001b[1;33m:\u001b[0m \u001b[0mTuple\u001b[0m\u001b[1;33m)\u001b[0m\u001b[1;33m:\u001b[0m\u001b[1;33m\u001b[0m\u001b[1;33m\u001b[0m\u001b[0m\n",
      "\u001b[1;32m~\\anaconda3\\lib\\site-packages\\pandas\\core\\indexing.py\u001b[0m in \u001b[0;36m_getitem_axis\u001b[1;34m(self, key, axis)\u001b[0m\n\u001b[0;32m   1501\u001b[0m             \u001b[0mself\u001b[0m\u001b[1;33m.\u001b[0m\u001b[0m_validate_integer\u001b[0m\u001b[1;33m(\u001b[0m\u001b[0mkey\u001b[0m\u001b[1;33m,\u001b[0m \u001b[0maxis\u001b[0m\u001b[1;33m)\u001b[0m\u001b[1;33m\u001b[0m\u001b[1;33m\u001b[0m\u001b[0m\n\u001b[0;32m   1502\u001b[0m \u001b[1;33m\u001b[0m\u001b[0m\n\u001b[1;32m-> 1503\u001b[1;33m             \u001b[1;32mreturn\u001b[0m \u001b[0mself\u001b[0m\u001b[1;33m.\u001b[0m\u001b[0mobj\u001b[0m\u001b[1;33m.\u001b[0m\u001b[0m_ixs\u001b[0m\u001b[1;33m(\u001b[0m\u001b[0mkey\u001b[0m\u001b[1;33m,\u001b[0m \u001b[0maxis\u001b[0m\u001b[1;33m=\u001b[0m\u001b[0maxis\u001b[0m\u001b[1;33m)\u001b[0m\u001b[1;33m\u001b[0m\u001b[1;33m\u001b[0m\u001b[0m\n\u001b[0m\u001b[0;32m   1504\u001b[0m \u001b[1;33m\u001b[0m\u001b[0m\n\u001b[0;32m   1505\u001b[0m     \u001b[1;32mdef\u001b[0m \u001b[0m_get_slice_axis\u001b[0m\u001b[1;33m(\u001b[0m\u001b[0mself\u001b[0m\u001b[1;33m,\u001b[0m \u001b[0mslice_obj\u001b[0m\u001b[1;33m:\u001b[0m \u001b[0mslice\u001b[0m\u001b[1;33m,\u001b[0m \u001b[0maxis\u001b[0m\u001b[1;33m:\u001b[0m \u001b[0mint\u001b[0m\u001b[1;33m)\u001b[0m\u001b[1;33m:\u001b[0m\u001b[1;33m\u001b[0m\u001b[1;33m\u001b[0m\u001b[0m\n",
      "\u001b[1;32m~\\anaconda3\\lib\\site-packages\\pandas\\core\\frame.py\u001b[0m in \u001b[0;36m_ixs\u001b[1;34m(self, i, axis)\u001b[0m\n\u001b[0;32m   2945\u001b[0m         \u001b[1;31m# irow\u001b[0m\u001b[1;33m\u001b[0m\u001b[1;33m\u001b[0m\u001b[1;33m\u001b[0m\u001b[0m\n\u001b[0;32m   2946\u001b[0m         \u001b[1;32mif\u001b[0m \u001b[0maxis\u001b[0m \u001b[1;33m==\u001b[0m \u001b[1;36m0\u001b[0m\u001b[1;33m:\u001b[0m\u001b[1;33m\u001b[0m\u001b[1;33m\u001b[0m\u001b[0m\n\u001b[1;32m-> 2947\u001b[1;33m             \u001b[0mnew_values\u001b[0m \u001b[1;33m=\u001b[0m \u001b[0mself\u001b[0m\u001b[1;33m.\u001b[0m\u001b[0m_mgr\u001b[0m\u001b[1;33m.\u001b[0m\u001b[0mfast_xs\u001b[0m\u001b[1;33m(\u001b[0m\u001b[0mi\u001b[0m\u001b[1;33m)\u001b[0m\u001b[1;33m\u001b[0m\u001b[1;33m\u001b[0m\u001b[0m\n\u001b[0m\u001b[0;32m   2948\u001b[0m \u001b[1;33m\u001b[0m\u001b[0m\n\u001b[0;32m   2949\u001b[0m             \u001b[1;31m# if we are a copy, mark as such\u001b[0m\u001b[1;33m\u001b[0m\u001b[1;33m\u001b[0m\u001b[1;33m\u001b[0m\u001b[0m\n",
      "\u001b[1;32m~\\anaconda3\\lib\\site-packages\\pandas\\core\\internals\\managers.py\u001b[0m in \u001b[0;36mfast_xs\u001b[1;34m(self, loc)\u001b[0m\n\u001b[0;32m    966\u001b[0m             \u001b[1;31m# result[blk.mgr_locs] = blk._slice((slice(None), loc))\u001b[0m\u001b[1;33m\u001b[0m\u001b[1;33m\u001b[0m\u001b[1;33m\u001b[0m\u001b[0m\n\u001b[0;32m    967\u001b[0m             \u001b[1;32mfor\u001b[0m \u001b[0mi\u001b[0m\u001b[1;33m,\u001b[0m \u001b[0mrl\u001b[0m \u001b[1;32min\u001b[0m \u001b[0menumerate\u001b[0m\u001b[1;33m(\u001b[0m\u001b[0mblk\u001b[0m\u001b[1;33m.\u001b[0m\u001b[0mmgr_locs\u001b[0m\u001b[1;33m)\u001b[0m\u001b[1;33m:\u001b[0m\u001b[1;33m\u001b[0m\u001b[1;33m\u001b[0m\u001b[0m\n\u001b[1;32m--> 968\u001b[1;33m                 \u001b[0mresult\u001b[0m\u001b[1;33m[\u001b[0m\u001b[0mrl\u001b[0m\u001b[1;33m]\u001b[0m \u001b[1;33m=\u001b[0m \u001b[0mblk\u001b[0m\u001b[1;33m.\u001b[0m\u001b[0miget\u001b[0m\u001b[1;33m(\u001b[0m\u001b[1;33m(\u001b[0m\u001b[0mi\u001b[0m\u001b[1;33m,\u001b[0m \u001b[0mloc\u001b[0m\u001b[1;33m)\u001b[0m\u001b[1;33m)\u001b[0m\u001b[1;33m\u001b[0m\u001b[1;33m\u001b[0m\u001b[0m\n\u001b[0m\u001b[0;32m    969\u001b[0m \u001b[1;33m\u001b[0m\u001b[0m\n\u001b[0;32m    970\u001b[0m         \u001b[1;32mif\u001b[0m \u001b[0misinstance\u001b[0m\u001b[1;33m(\u001b[0m\u001b[0mdtype\u001b[0m\u001b[1;33m,\u001b[0m \u001b[0mExtensionDtype\u001b[0m\u001b[1;33m)\u001b[0m\u001b[1;33m:\u001b[0m\u001b[1;33m\u001b[0m\u001b[1;33m\u001b[0m\u001b[0m\n",
      "\u001b[1;32m~\\anaconda3\\lib\\site-packages\\pandas\\core\\internals\\blocks.py\u001b[0m in \u001b[0;36miget\u001b[1;34m(self, key)\u001b[0m\n\u001b[0;32m   2186\u001b[0m         \u001b[1;31m# GH#31649 we need to wrap scalars in Timestamp/Timedelta\u001b[0m\u001b[1;33m\u001b[0m\u001b[1;33m\u001b[0m\u001b[1;33m\u001b[0m\u001b[0m\n\u001b[0;32m   2187\u001b[0m         \u001b[1;31m# TODO(EA2D): this can be removed if we ever have 2D EA\u001b[0m\u001b[1;33m\u001b[0m\u001b[1;33m\u001b[0m\u001b[1;33m\u001b[0m\u001b[0m\n\u001b[1;32m-> 2188\u001b[1;33m         \u001b[1;32mreturn\u001b[0m \u001b[0mself\u001b[0m\u001b[1;33m.\u001b[0m\u001b[0marray_values\u001b[0m\u001b[1;33m(\u001b[0m\u001b[1;33m)\u001b[0m\u001b[1;33m.\u001b[0m\u001b[0mreshape\u001b[0m\u001b[1;33m(\u001b[0m\u001b[0mself\u001b[0m\u001b[1;33m.\u001b[0m\u001b[0mshape\u001b[0m\u001b[1;33m)\u001b[0m\u001b[1;33m[\u001b[0m\u001b[0mkey\u001b[0m\u001b[1;33m]\u001b[0m\u001b[1;33m\u001b[0m\u001b[1;33m\u001b[0m\u001b[0m\n\u001b[0m\u001b[0;32m   2189\u001b[0m \u001b[1;33m\u001b[0m\u001b[0m\n\u001b[0;32m   2190\u001b[0m     \u001b[1;32mdef\u001b[0m \u001b[0mdiff\u001b[0m\u001b[1;33m(\u001b[0m\u001b[0mself\u001b[0m\u001b[1;33m,\u001b[0m \u001b[0mn\u001b[0m\u001b[1;33m:\u001b[0m \u001b[0mint\u001b[0m\u001b[1;33m,\u001b[0m \u001b[0maxis\u001b[0m\u001b[1;33m:\u001b[0m \u001b[0mint\u001b[0m \u001b[1;33m=\u001b[0m \u001b[1;36m0\u001b[0m\u001b[1;33m)\u001b[0m \u001b[1;33m->\u001b[0m \u001b[0mList\u001b[0m\u001b[1;33m[\u001b[0m\u001b[1;34m\"Block\"\u001b[0m\u001b[1;33m]\u001b[0m\u001b[1;33m:\u001b[0m\u001b[1;33m\u001b[0m\u001b[1;33m\u001b[0m\u001b[0m\n",
      "\u001b[1;32m~\\anaconda3\\lib\\site-packages\\pandas\\core\\arrays\\datetimelike.py\u001b[0m in \u001b[0;36m__getitem__\u001b[1;34m(self, key)\u001b[0m\n\u001b[0;32m    279\u001b[0m         \u001b[0monly\u001b[0m \u001b[0mhandle\u001b[0m \u001b[0mlist\u001b[0m\u001b[1;33m-\u001b[0m\u001b[0mlikes\u001b[0m\u001b[1;33m,\u001b[0m \u001b[0mslices\u001b[0m\u001b[1;33m,\u001b[0m \u001b[1;32mand\u001b[0m \u001b[0minteger\u001b[0m \u001b[0mscalars\u001b[0m\u001b[1;33m\u001b[0m\u001b[1;33m\u001b[0m\u001b[0m\n\u001b[0;32m    280\u001b[0m         \"\"\"\n\u001b[1;32m--> 281\u001b[1;33m         \u001b[0mresult\u001b[0m \u001b[1;33m=\u001b[0m \u001b[0msuper\u001b[0m\u001b[1;33m(\u001b[0m\u001b[1;33m)\u001b[0m\u001b[1;33m.\u001b[0m\u001b[0m__getitem__\u001b[0m\u001b[1;33m(\u001b[0m\u001b[0mkey\u001b[0m\u001b[1;33m)\u001b[0m\u001b[1;33m\u001b[0m\u001b[1;33m\u001b[0m\u001b[0m\n\u001b[0m\u001b[0;32m    282\u001b[0m         \u001b[1;32mif\u001b[0m \u001b[0mlib\u001b[0m\u001b[1;33m.\u001b[0m\u001b[0mis_scalar\u001b[0m\u001b[1;33m(\u001b[0m\u001b[0mresult\u001b[0m\u001b[1;33m)\u001b[0m\u001b[1;33m:\u001b[0m\u001b[1;33m\u001b[0m\u001b[1;33m\u001b[0m\u001b[0m\n\u001b[0;32m    283\u001b[0m             \u001b[1;32mreturn\u001b[0m \u001b[0mresult\u001b[0m\u001b[1;33m\u001b[0m\u001b[1;33m\u001b[0m\u001b[0m\n",
      "\u001b[1;32m~\\anaconda3\\lib\\site-packages\\pandas\\core\\arrays\\_mixins.py\u001b[0m in \u001b[0;36m__getitem__\u001b[1;34m(self, key)\u001b[0m\n\u001b[0;32m    229\u001b[0m         \u001b[0mresult\u001b[0m \u001b[1;33m=\u001b[0m \u001b[0mself\u001b[0m\u001b[1;33m.\u001b[0m\u001b[0m_ndarray\u001b[0m\u001b[1;33m[\u001b[0m\u001b[0mkey\u001b[0m\u001b[1;33m]\u001b[0m\u001b[1;33m\u001b[0m\u001b[1;33m\u001b[0m\u001b[0m\n\u001b[0;32m    230\u001b[0m         \u001b[1;32mif\u001b[0m \u001b[0mlib\u001b[0m\u001b[1;33m.\u001b[0m\u001b[0mis_scalar\u001b[0m\u001b[1;33m(\u001b[0m\u001b[0mresult\u001b[0m\u001b[1;33m)\u001b[0m\u001b[1;33m:\u001b[0m\u001b[1;33m\u001b[0m\u001b[1;33m\u001b[0m\u001b[0m\n\u001b[1;32m--> 231\u001b[1;33m             \u001b[1;32mreturn\u001b[0m \u001b[0mself\u001b[0m\u001b[1;33m.\u001b[0m\u001b[0m_box_func\u001b[0m\u001b[1;33m(\u001b[0m\u001b[0mresult\u001b[0m\u001b[1;33m)\u001b[0m\u001b[1;33m\u001b[0m\u001b[1;33m\u001b[0m\u001b[0m\n\u001b[0m\u001b[0;32m    232\u001b[0m \u001b[1;33m\u001b[0m\u001b[0m\n\u001b[0;32m    233\u001b[0m         \u001b[0mresult\u001b[0m \u001b[1;33m=\u001b[0m \u001b[0mself\u001b[0m\u001b[1;33m.\u001b[0m\u001b[0m_from_backing_data\u001b[0m\u001b[1;33m(\u001b[0m\u001b[0mresult\u001b[0m\u001b[1;33m)\u001b[0m\u001b[1;33m\u001b[0m\u001b[1;33m\u001b[0m\u001b[0m\n",
      "\u001b[1;31mKeyboardInterrupt\u001b[0m: "
     ]
    }
   ],
   "source": [
    "#matrx - двухмерный массив, в котором ячейка[i][j] - это сколько раз товары по i и j индексу встречались вместе в одном чеке\n",
    "#благодаря группировке - асимптотика алгоритма примерно О(N) \n",
    "matrix = np.array([[0 for i in range(358)] for i in range(data_product.shape[0])])\n",
    "matrix\n",
    "\n",
    "i=0\n",
    "while i < cheques_position.shape[0]-1:\n",
    "    customer_id = cheques_position.iloc[i]['customer']\n",
    "    while cheques_position.iloc[i]['customer'] == customer_id:\n",
    "        mas=[]\n",
    "        purchase = cheques_position.iloc[i]['purchase_date']\n",
    "        while cheques_position.iloc[i]['purchase_date'] == purchase:\n",
    "            mas.append(cheques_position.iloc[i]['index'])\n",
    "            i+=1\n",
    "        for j in mas:\n",
    "            for k in mas:\n",
    "                matrix[j][k]+=1"
   ]
  },
  {
   "cell_type": "code",
   "execution_count": null,
   "id": "dc9a423e",
   "metadata": {
    "scrolled": false
   },
   "outputs": [],
   "source": [
    "#преобразовываем матрицу в DataFrame, добавляем имена товаров и убираем товары,которые встречались меньше 1000 раз всего. \n",
    "#Их анализ будет нерелевантным. Но этого делать необязательно, просто итоговая таблица будет больше. Тут появляется ошибка-\n",
    "#Но это просто предупреждение от Pandas, что можно сделать по-другому, всё работает\n",
    "data_matrix= pd.DataFrame(matrix)\n",
    "data_matrix= data_matrix.reset_index(0)\n",
    "\n",
    "data_matrix= data_matrix.merge(data_product, on='index')\n",
    "data_matrix= data_matrix.set_index('product')\n",
    "data_matrix= data_matrix.drop(columns=['index','level_0','other_product_x'])\n",
    "data_matrix= data_matrix.transpose()\n",
    "data_matrix= data_matrix.reset_index(0)\n",
    "for i in range(data_matrix.shape[0]):\n",
    "     data_matrix=['index'][i]=data_product['product'][i]\n",
    "data_matrix=  data_matrix.set_index('index')\n",
    "data_matrix= data_matrix.drop(columns=['Одежда для купания','Туристическое снаряжение','Ирригаторы (включая расходные к ним материалы)','Бандажи дородовые и послеродовые','Спец.средства(уход за брекетами и протезами)',\n",
    " 'Зимний спортивный инвентарь','Колготки','Педикулезные средства','Подарочные наборы','Автоэлектроника','Устройства для курения','Бараночные изделия','Спортивные игры','Бады для женского здоровья','Спринцовки и кружки Эсмарха','Товары для прогулки и отдыха','Журналы','Глюкометры (включая расходные к ним материалы)','Банки для консервирования','Средства для носовой полости','IT девайсы','Крупная бытовая техника',\n",
    " 'Садовый интерьер','Велоспорт','Украшения для выпечки','Складная и пластиковая мебель','Рождественские елки','Бады для почек, печени','Пасхальная посуда','Чистящие средства для техники',\n",
    " 'Аксессуары для кемпинга','Ингаляторы','Стремянки, лестницы','Бады для зрения','Повседневная обувь','Тонометры (включая расходные к ним материалы)','Косметические наборы','Бады для похудения','Бады для ЖКТ','Аксессуары для сада','Хлопушки',\n",
    " 'Средства для лечения верхних дыхательных путей','Спортивный инвентарь Промо','Художественная литература','Аксессуарика','Мебель для террасы','Посадочный инвентарь',\n",
    " 'Витамины таблетированные','Линейки сервировочной посуды фаянс','Бады для сердца, сосудов','Автозапчасти','Рюкзаки, сумки, чемоданы Промо','Витамины жидкие, растворимые',\n",
    " 'Товары для безопасности','Аккумуляторы, зарядные устройства','Освещение','Тесты для диагностики заболеваний','Бады для красоты','Формы для куличей','Посадочный материал','Коллекции',\n",
    " 'Инвентарь для полива','Тесты для определения овуляции','Строительный инвентарь','Технические жидкости','Сигареты','Климатическая техника','Искусственные растения',\n",
    " 'Бады для иммунитета', 'Леденцы, пастилки','Папиросы','Средства ухода и защиты растений','Рабочая обувь','Посуда Промо','Инструменты для ухода за растениями','Живой срез','Электромонтаж',\n",
    " 'Всесезонный спортивный инвентарь','Средства для розжига','Бассейны','Оборудование и инструменты','Напитки СП ММ','Защитные приспособления','Устройства ввода','Аксессуары для комнатных растений',\n",
    " 'Подарочные книги','Творог детский','Бады для нервной системы','Защитные аксессуары','Аксессуары для купания','Электроинструменты и аксессуары к ним','Веники','Музыкальные инструменты','Цифровые носители информации','Приспособления для консервирования','Шарфы, палантины',\n",
    " 'Надувные кровати','Функциональные напитки детские','Фонари'])\n",
    "data_matrix = data_matrix.transpose()\n",
    "data_matrix= data_matrix.drop(columns=['Одежда для купания','Туристическое снаряжение','Ирригаторы (включая расходные к ним материалы)','Бандажи дородовые и послеродовые','Спец.средства(уход за брекетами и протезами)',\n",
    " 'Зимний спортивный инвентарь','Колготки','Педикулезные средства','Подарочные наборы','Автоэлектроника','Устройства для курения','Бараночные изделия','Спортивные игры','Бады для женского здоровья','Спринцовки и кружки Эсмарха','Товары для прогулки и отдыха','Журналы','Глюкометры (включая расходные к ним материалы)','Банки для консервирования','Средства для носовой полости','IT девайсы','Крупная бытовая техника',\n",
    " 'Садовый интерьер','Велоспорт','Украшения для выпечки','Складная и пластиковая мебель','Рождественские елки','Бады для почек, печени','Пасхальная посуда','Чистящие средства для техники',\n",
    " 'Аксессуары для кемпинга','Ингаляторы','Стремянки, лестницы','Бады для зрения','Повседневная обувь','Тонометры (включая расходные к ним материалы)','Косметические наборы','Бады для похудения','Бады для ЖКТ','Аксессуары для сада','Хлопушки',\n",
    " 'Средства для лечения верхних дыхательных путей','Спортивный инвентарь Промо','Художественная литература','Аксессуарика','Мебель для террасы','Посадочный инвентарь',\n",
    " 'Витамины таблетированные','Линейки сервировочной посуды фаянс','Бады для сердца, сосудов','Автозапчасти','Рюкзаки, сумки, чемоданы Промо','Витамины жидкие, растворимые',\n",
    " 'Товары для безопасности','Аккумуляторы, зарядные устройства','Освещение','Тесты для диагностики заболеваний','Бады для красоты','Формы для куличей','Посадочный материал','Коллекции',\n",
    " 'Инвентарь для полива','Тесты для определения овуляции','Строительный инвентарь','Технические жидкости','Сигареты','Климатическая техника','Искусственные растения',\n",
    " 'Бады для иммунитета', 'Леденцы, пастилки','Папиросы','Средства ухода и защиты растений','Рабочая обувь','Посуда Промо','Инструменты для ухода за растениями','Живой срез','Электромонтаж',\n",
    " 'Всесезонный спортивный инвентарь','Средства для розжига','Бассейны','Оборудование и инструменты','Напитки СП ММ','Защитные приспособления','Устройства ввода','Аксессуары для комнатных растений',\n",
    " 'Подарочные книги','Творог детский','Бады для нервной системы','Защитные аксессуары','Аксессуары для купания','Электроинструменты и аксессуары к ним','Веники','Музыкальные инструменты','Цифровые носители информации','Приспособления для консервирования','Шарфы, палантины',\n",
    " 'Надувные кровати','Функциональные напитки детские','Фонари'])"
   ]
  },
  {
   "cell_type": "code",
   "execution_count": null,
   "id": "a8f79faf",
   "metadata": {
    "scrolled": true
   },
   "outputs": [],
   "source": [
    "#Сверху мы оставляем только товары от P&G - ведь, мы рекомендуем только товары данной компании\n",
    "#Также заменяем кол-во пересечений товаров в одном чеке на показатель процентный показатель, сколько раз товар \n",
    "#встречался именно с ним в чеке, относительно других\n",
    "#Сохраняем таблицу в csv, чтобы затем можно было с ней работать дальше\n",
    "data_matrix = data_matrix.reset_index(0)\n",
    "data_matrix = data_matrix[data_matrix['product'].isin(mas_name_PG)]\n",
    "data_matrix = data_matrix.transpose()\n",
    "data_matrix = data_matrix.reset_index(0)\n",
    "data_matrix = data_matrix[~data_matrix['index'].isin(mas_name_PG)]\n",
    "data_matrix = data_matrix.set_index('index')\n",
    "sum_str = list(data_matrix.sum(axis=1))\n",
    "\n",
    "for i in range(1,data_matrix.shape[0]):\n",
    "    max_str = sum_str[i]\n",
    "    for j in range(data_matrix.shape[1]):\n",
    "        data_matrix.iat[i,j]=round((data_matrix.iat[i,j]/max_str)*100,2)\n",
    "data_matrix.to_csv('final.csv')"
   ]
  },
  {
   "cell_type": "code",
   "execution_count": null,
   "id": "162f269f",
   "metadata": {},
   "outputs": [],
   "source": []
  }
 ],
 "metadata": {
  "kernelspec": {
   "display_name": "Python 3",
   "language": "python",
   "name": "python3"
  }
 },
 "nbformat": 4,
 "nbformat_minor": 5
}
